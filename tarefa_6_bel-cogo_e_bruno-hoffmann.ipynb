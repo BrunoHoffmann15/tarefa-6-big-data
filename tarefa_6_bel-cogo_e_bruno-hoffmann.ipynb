{
 "cells": [
  {
   "cell_type": "markdown",
   "metadata": {},
   "source": [
    "Nomes: Bel Cogo e Bruno da Siqueira Hoffmann.\n",
    "\n",
    "Professor: Felipe de Morais.\n",
    "\n",
    "Disciplina: Ciência de Dados e Big Data.\n",
    "\n",
    "# Tarefa 6"
   ]
  },
  {
   "cell_type": "markdown",
   "metadata": {},
   "source": [
    "Para a tarefa em questão foi utilizado o banco NoSQL MongoDB, além disso, foi usado a base de dados: https://www.kaggle.com/datasets/evgeny1928/playstation-games-info?select=games.csv. Usando o modelo `.csv` e executando os scripts abaixo para realizar a conversão do `.csv` em `.json`. A partir disso foi feita as configurações expostas na aula para execução do banco de dados Mongo e a inserção da collection."
   ]
  },
  {
   "cell_type": "code",
   "execution_count": 1,
   "metadata": {},
   "outputs": [],
   "source": [
    "import csv\n",
    "import json\n",
    "\n",
    "def csv_to_json(csv_file_path, json_file_path):\n",
    "    # Abrir o arquivo CSV e ler o conteúdo\n",
    "    with open(csv_file_path, mode='r', encoding='utf-8') as csv_file:\n",
    "        csv_reader = csv.DictReader(csv_file)\n",
    "        data = []\n",
    "        \n",
    "        # Converter cada linha do CSV em um dicionário e adicionar à lista\n",
    "        for row in csv_reader:\n",
    "            # Converter strings de listas para listas reais\n",
    "            if 'platforms' in row:\n",
    "                row['platforms'] = eval(row['platforms'])\n",
    "            if 'genres' in row:\n",
    "                row['genres'] = eval(row['genres'])\n",
    "            if 'price' in row:\n",
    "                row['price'] = float(row['price'])\n",
    "            if 'rating' in row:\n",
    "                row['rating'] = float(row['rating'])\n",
    "                \n",
    "            # Adicionar o dicionário à lista\n",
    "            data.append(row)\n",
    "    \n",
    "    # Salvar a lista de dicionários no arquivo JSON\n",
    "    with open(json_file_path, mode='w', encoding='utf-8') as json_file:\n",
    "        json.dump(data, json_file, indent=4, ensure_ascii=False)\n",
    "\n",
    "# Exemplo de uso:\n",
    "csv_to_json('games.csv', 'games.json')\n"
   ]
  },
  {
   "cell_type": "markdown",
   "metadata": {},
   "source": [
    "Após transformar o arquivo `.csv` em um arquivo `.json` foi necessário executar os comandos para importar o arquivo `json` para o banco de dados como uma collection, esses comando sendo executados em um terminal."
   ]
  },
  {
   "cell_type": "code",
   "execution_count": 3,
   "metadata": {
    "vscode": {
     "languageId": "shellscript"
    }
   },
   "outputs": [
    {
     "ename": "SyntaxError",
     "evalue": "invalid syntax (1657558742.py, line 1)",
     "output_type": "error",
     "traceback": [
      "\u001b[0;36m  Cell \u001b[0;32mIn[3], line 1\u001b[0;36m\u001b[0m\n\u001b[0;31m    mongodump --db playstation --collection games\u001b[0m\n\u001b[0m                   ^\u001b[0m\n\u001b[0;31mSyntaxError\u001b[0m\u001b[0;31m:\u001b[0m invalid syntax\n"
     ]
    }
   ],
   "source": [
    "mongoimport --db playstation --collection games --file games.json --jsonArray"
   ]
  },
  {
   "cell_type": "markdown",
   "metadata": {},
   "source": [
    "Em seguida, foi executado o comando python abaixo para se conectar com o banco de dados."
   ]
  },
  {
   "cell_type": "code",
   "execution_count": 6,
   "metadata": {},
   "outputs": [],
   "source": [
    "import json\n",
    "from pymongo import MongoClient\n",
    "import pandas as pd\n",
    "\n",
    "\n",
    "# se conecta com o servidor mongo da maquina\n",
    "client = MongoClient('localhost', 27017)\n",
    "   \n",
    "# lista todos os databases\n",
    "client.list_database_names()\n",
    "\n",
    "# le a coleção denominada playstation\n",
    "db = client.playstation\n",
    "\n",
    "# desta coleção, le os arquivos de games\n",
    "movies = db.games"
   ]
  },
  {
   "cell_type": "markdown",
   "metadata": {},
   "source": [
    "## Pergunta 1\n",
    "\n",
    "**Pergunta:** Quais são os jogos com os generos ação ou aventura e com a nota maior que 4.5? Indique o nome, a nota, o preço e os demais generos.\n",
    "\n",
    "**Resposta:**"
   ]
  },
  {
   "cell_type": "code",
   "execution_count": 9,
   "metadata": {},
   "outputs": [
    {
     "data": {
      "text/html": [
       "<div>\n",
       "<style scoped>\n",
       "    .dataframe tbody tr th:only-of-type {\n",
       "        vertical-align: middle;\n",
       "    }\n",
       "\n",
       "    .dataframe tbody tr th {\n",
       "        vertical-align: top;\n",
       "    }\n",
       "\n",
       "    .dataframe thead th {\n",
       "        text-align: right;\n",
       "    }\n",
       "</style>\n",
       "<table border=\"1\" class=\"dataframe\">\n",
       "  <thead>\n",
       "    <tr style=\"text-align: right;\">\n",
       "      <th></th>\n",
       "      <th>title</th>\n",
       "      <th>rating</th>\n",
       "      <th>price</th>\n",
       "      <th>genres</th>\n",
       "    </tr>\n",
       "  </thead>\n",
       "  <tbody>\n",
       "    <tr>\n",
       "      <th>0</th>\n",
       "      <td>Grand Theft Auto Online (PlayStation®5)</td>\n",
       "      <td>4.52</td>\n",
       "      <td>19.99</td>\n",
       "      <td>[Action, Adventure]</td>\n",
       "    </tr>\n",
       "    <tr>\n",
       "      <th>1</th>\n",
       "      <td>Marvel’s Spider-Man 2</td>\n",
       "      <td>4.86</td>\n",
       "      <td>49.69</td>\n",
       "      <td>[Action]</td>\n",
       "    </tr>\n",
       "    <tr>\n",
       "      <th>2</th>\n",
       "      <td>Honkai: Star Rail</td>\n",
       "      <td>4.60</td>\n",
       "      <td>0.00</td>\n",
       "      <td>[Adventure, Role Playing Games]</td>\n",
       "    </tr>\n",
       "    <tr>\n",
       "      <th>3</th>\n",
       "      <td>Red Dead Redemption 2</td>\n",
       "      <td>4.71</td>\n",
       "      <td>19.79</td>\n",
       "      <td>[Action, Adventure, Unique]</td>\n",
       "    </tr>\n",
       "    <tr>\n",
       "      <th>4</th>\n",
       "      <td>Stellar Blade™</td>\n",
       "      <td>4.82</td>\n",
       "      <td>69.99</td>\n",
       "      <td>[Adventure, Action]</td>\n",
       "    </tr>\n",
       "    <tr>\n",
       "      <th>...</th>\n",
       "      <td>...</td>\n",
       "      <td>...</td>\n",
       "      <td>...</td>\n",
       "      <td>...</td>\n",
       "    </tr>\n",
       "    <tr>\n",
       "      <th>1017</th>\n",
       "      <td>The Demon Rush: Legends Corrupt</td>\n",
       "      <td>5.00</td>\n",
       "      <td>17.99</td>\n",
       "      <td>[Action, Role Playing Games]</td>\n",
       "    </tr>\n",
       "    <tr>\n",
       "      <th>1018</th>\n",
       "      <td>The Journey Down: Chapter One</td>\n",
       "      <td>4.81</td>\n",
       "      <td>6.99</td>\n",
       "      <td>[Adventure, Adventure]</td>\n",
       "    </tr>\n",
       "    <tr>\n",
       "      <th>1019</th>\n",
       "      <td>The Last Door - Complete Edition</td>\n",
       "      <td>4.66</td>\n",
       "      <td>14.99</td>\n",
       "      <td>[Adventure, Horror, Puzzle]</td>\n",
       "    </tr>\n",
       "    <tr>\n",
       "      <th>1020</th>\n",
       "      <td>The Legend of Tianding</td>\n",
       "      <td>4.59</td>\n",
       "      <td>19.99</td>\n",
       "      <td>[Adventure, Action]</td>\n",
       "    </tr>\n",
       "    <tr>\n",
       "      <th>1021</th>\n",
       "      <td>The Procession to Calvary</td>\n",
       "      <td>4.66</td>\n",
       "      <td>14.99</td>\n",
       "      <td>[Adventure, Adventure]</td>\n",
       "    </tr>\n",
       "  </tbody>\n",
       "</table>\n",
       "<p>1022 rows × 4 columns</p>\n",
       "</div>"
      ],
      "text/plain": [
       "                                        title  rating  price  \\\n",
       "0     Grand Theft Auto Online (PlayStation®5)    4.52  19.99   \n",
       "1                       Marvel’s Spider-Man 2    4.86  49.69   \n",
       "2                           Honkai: Star Rail    4.60   0.00   \n",
       "3                       Red Dead Redemption 2    4.71  19.79   \n",
       "4                              Stellar Blade™    4.82  69.99   \n",
       "...                                       ...     ...    ...   \n",
       "1017          The Demon Rush: Legends Corrupt    5.00  17.99   \n",
       "1018            The Journey Down: Chapter One    4.81   6.99   \n",
       "1019         The Last Door - Complete Edition    4.66  14.99   \n",
       "1020                   The Legend of Tianding    4.59  19.99   \n",
       "1021                The Procession to Calvary    4.66  14.99   \n",
       "\n",
       "                               genres  \n",
       "0                 [Action, Adventure]  \n",
       "1                            [Action]  \n",
       "2     [Adventure, Role Playing Games]  \n",
       "3         [Action, Adventure, Unique]  \n",
       "4                 [Adventure, Action]  \n",
       "...                               ...  \n",
       "1017     [Action, Role Playing Games]  \n",
       "1018           [Adventure, Adventure]  \n",
       "1019      [Adventure, Horror, Puzzle]  \n",
       "1020              [Adventure, Action]  \n",
       "1021           [Adventure, Adventure]  \n",
       "\n",
       "[1022 rows x 4 columns]"
      ]
     },
     "execution_count": 9,
     "metadata": {},
     "output_type": "execute_result"
    }
   ],
   "source": [
    "criteria = {\n",
    "  '$or': [\n",
    "    {'genres': { '$in': ['Action'] }},\n",
    "    {'genres': { '$in': ['Adventure'] }}\n",
    "  ],\n",
    "  'rating': { '$gt': 4.5 }\n",
    "}\n",
    "\n",
    "projection = {\n",
    "    'title': 1,\n",
    "    'rating': 1,\n",
    "    'genres': 1,\n",
    "    'price': 1,\n",
    "    '_id': 0\n",
    "}\n",
    "\n",
    "\n",
    "cursor = movies.find(criteria, projection)\n",
    "df = pd.DataFrame(cursor)\n",
    "\n",
    "df"
   ]
  },
  {
   "cell_type": "markdown",
   "metadata": {},
   "source": [
    "## Pergunta 2\n",
    "\n",
    "**Pergunta:** Qual é o nome e o preço do jogo mais bem avaliado?\n",
    "\n",
    "**Resposta:**"
   ]
  },
  {
   "cell_type": "markdown",
   "metadata": {},
   "source": [
    "## Pergunta 3\n",
    "\n",
    "**Pergunta:** Qual gênero de jogo é o mais caro? \n",
    "\n",
    "**Resposta:**"
   ]
  },
  {
   "cell_type": "markdown",
   "metadata": {},
   "source": [
    "## Pergunta 4\n",
    "\n",
    "**Pergunta:** Qual o mês com mais lançamentos de jogos?\n",
    "\n",
    "**Resposta:**"
   ]
  },
  {
   "cell_type": "markdown",
   "metadata": {},
   "source": [
    "## Pergunta 5\n",
    "\n",
    "**Pergunta:** Qual plataforma é a mais popular?\n",
    "\n",
    "**Resposta:**"
   ]
  }
 ],
 "metadata": {
  "kernelspec": {
   "display_name": ".venv",
   "language": "python",
   "name": "python3"
  },
  "language_info": {
   "codemirror_mode": {
    "name": "ipython",
    "version": 3
   },
   "file_extension": ".py",
   "mimetype": "text/x-python",
   "name": "python",
   "nbconvert_exporter": "python",
   "pygments_lexer": "ipython3",
   "version": "3.10.4"
  }
 },
 "nbformat": 4,
 "nbformat_minor": 2
}
