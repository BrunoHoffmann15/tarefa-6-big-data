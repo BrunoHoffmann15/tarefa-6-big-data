{
 "cells": [
  {
   "cell_type": "markdown",
   "metadata": {},
   "source": [
    "Nomes: Bel Cogo e Bruno da Siqueira Hoffmann.\n",
    "\n",
    "Professor: Felipe de Morais.\n",
    "\n",
    "Disciplina: Ciência de Dados e Big Data.\n",
    "\n",
    "# Tarefa 6"
   ]
  },
  {
   "cell_type": "markdown",
   "metadata": {},
   "source": [
    "Para a tarefa em questão foi utilizado o banco NoSQL MongoDB, além disso, foi usado a base de dados: https://www.kaggle.com/datasets/evgeny1928/playstation-games-info?select=games.csv. Usando o modelo `.csv` e executando os scripts abaixo para realizar a conversão do `.csv` em `.json`. A partir disso foi feita as configurações expostas na aula para execução do banco de dados Mongo e a inserção da collection."
   ]
  },
  {
   "cell_type": "code",
   "execution_count": null,
   "metadata": {},
   "outputs": [],
   "source": [
    "import csv\n",
    "import json\n",
    "\n",
    "def csv_to_json(csv_file_path, json_file_path):\n",
    "    with open(csv_file_path, mode='r', encoding='utf-8') as csv_file:\n",
    "        csv_reader = csv.DictReader(csv_file)\n",
    "        data = []\n",
    "        \n",
    "        for row in csv_reader:\n",
    "            if 'platforms' in row:\n",
    "                row['platforms'] = eval(row['platforms'])\n",
    "            if 'genres' in row:\n",
    "                row['genres'] = eval(row['genres'])\n",
    "            data.append(row)\n",
    "    \n",
    "    with open(json_file_path, mode='w', encoding='utf-8') as json_file:\n",
    "        json.dump(data, json_file, indent=4, ensure_ascii=False)\n",
    "\n",
    "csv_to_json('games.csv', 'games.json')"
   ]
  }
 ],
 "metadata": {
  "language_info": {
   "name": "python"
  }
 },
 "nbformat": 4,
 "nbformat_minor": 2
}
