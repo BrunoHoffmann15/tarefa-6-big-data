{
 "cells": [
  {
   "cell_type": "markdown",
   "metadata": {},
   "source": [
    "Nomes: Bel Cogo e Bruno da Siqueira Hoffmann.\n",
    "\n",
    "Professor: Felipe de Morais.\n",
    "\n",
    "Disciplina: Ciência de Dados e Big Data.\n",
    "\n",
    "# Tarefa 6"
   ]
  },
  {
   "cell_type": "markdown",
   "metadata": {},
   "source": [
    "Para a tarefa em questão foi utilizado o banco NoSQL MongoDB, além disso, foi usado a base de dados: https://www.kaggle.com/datasets/evgeny1928/playstation-games-info?select=games.csv. Usando o modelo `.csv` e executando os scripts abaixo para realizar a conversão do `.csv` em `.json`. A partir disso foi feita as configurações expostas na aula para execução do banco de dados Mongo e a inserção da collection."
   ]
  },
  {
   "cell_type": "code",
   "execution_count": 1,
   "metadata": {},
   "outputs": [],
   "source": [
    "import csv\n",
    "import json\n",
    "\n",
    "def csv_to_json(csv_file_path, json_file_path):\n",
    "    with open(csv_file_path, mode='r', encoding='utf-8') as csv_file:\n",
    "        csv_reader = csv.DictReader(csv_file)\n",
    "        data = []\n",
    "        \n",
    "        for row in csv_reader:\n",
    "            if 'platforms' in row:\n",
    "                row['platforms'] = eval(row['platforms'])\n",
    "            if 'genres' in row:\n",
    "                row['genres'] = eval(row['genres'])\n",
    "            data.append(row)\n",
    "    \n",
    "    with open(json_file_path, mode='w', encoding='utf-8') as json_file:\n",
    "        json.dump(data, json_file, indent=4, ensure_ascii=False)\n",
    "\n",
    "csv_to_json('games.csv', 'games.json')"
   ]
  },
  {
   "cell_type": "markdown",
   "metadata": {},
   "source": [
    "Após transformar o arquivo `.csv` em um arquivo `.json` foi necessário executar os comandos para importar o arquivo `json` para o banco de dados como uma collection:"
   ]
  },
  {
   "cell_type": "code",
   "execution_count": 3,
   "metadata": {
    "vscode": {
     "languageId": "shellscript"
    }
   },
   "outputs": [
    {
     "ename": "SyntaxError",
     "evalue": "invalid syntax (1657558742.py, line 1)",
     "output_type": "error",
     "traceback": [
      "\u001b[0;36m  Cell \u001b[0;32mIn[3], line 1\u001b[0;36m\u001b[0m\n\u001b[0;31m    mongodump --db playstation --collection games\u001b[0m\n\u001b[0m                   ^\u001b[0m\n\u001b[0;31mSyntaxError\u001b[0m\u001b[0;31m:\u001b[0m invalid syntax\n"
     ]
    }
   ],
   "source": [
    "mongodump --db playstation --collection games\n",
    "\n",
    "mongorestore --db database_name ./games.json"
   ]
  },
  {
   "cell_type": "markdown",
   "metadata": {},
   "source": [
    "Em seguida, foi executado o comando python abaixo para se conectar com o banco de dados."
   ]
  },
  {
   "cell_type": "code",
   "execution_count": 4,
   "metadata": {},
   "outputs": [
    {
     "data": {
      "text/plain": [
       "['admin', 'config', 'local']"
      ]
     },
     "execution_count": 4,
     "metadata": {},
     "output_type": "execute_result"
    }
   ],
   "source": [
    "import json\n",
    "from pymongo import MongoClient\n",
    "\n",
    "# se conecta com o servidor mongo da maquina\n",
    "client = MongoClient('localhost', 27017)   \n",
    "# lista todos os databases\n",
    "client.list_database_names()"
   ]
  },
  {
   "cell_type": "markdown",
   "metadata": {},
   "source": [
    "## Pergunta 1\n",
    "\n",
    "**Pergunta:** Quais são os jogos com a nota superior a 4.0, que sejam de ação ou aventura? \n",
    "\n",
    "**Resposta:**"
   ]
  },
  {
   "cell_type": "markdown",
   "metadata": {},
   "source": [
    "## Pergunta 2\n",
    "\n",
    "**Pergunta:** Qual é o nome e o preço do jogo mais bem avaliado?\n",
    "\n",
    "**Resposta:**"
   ]
  },
  {
   "cell_type": "markdown",
   "metadata": {},
   "source": [
    "## Pergunta 3\n",
    "\n",
    "**Pergunta:** Qual gênero de jogo é o mais caro? \n",
    "\n",
    "**Resposta:**"
   ]
  },
  {
   "cell_type": "markdown",
   "metadata": {},
   "source": [
    "## Pergunta 4\n",
    "\n",
    "**Pergunta:** Qual o mês com mais lançamentos de jogos?\n",
    "\n",
    "**Resposta:**"
   ]
  },
  {
   "cell_type": "markdown",
   "metadata": {},
   "source": [
    "## Pergunta 5\n",
    "\n",
    "**Pergunta:** Qual plataforma é a mais popular?\n",
    "\n",
    "**Resposta:**"
   ]
  }
 ],
 "metadata": {
  "kernelspec": {
   "display_name": "Python 3",
   "language": "python",
   "name": "python3"
  },
  "language_info": {
   "codemirror_mode": {
    "name": "ipython",
    "version": 3
   },
   "file_extension": ".py",
   "mimetype": "text/x-python",
   "name": "python",
   "nbconvert_exporter": "python",
   "pygments_lexer": "ipython3",
   "version": "3.10.12"
  }
 },
 "nbformat": 4,
 "nbformat_minor": 2
}
